{
 "cells": [
  {
   "cell_type": "markdown",
   "metadata": {},
   "source": [
    "# The Amtrak Dilemma"
   ]
  },
  {
   "cell_type": "markdown",
   "metadata": {},
   "source": [
    "## Topic\n",
    "*What problem are you (or your stakeholder) trying to address?* \n",
    "The issue I will be focusing on is that of the American transit system. While there exists the desire for more efficient, safer transportation, there is very little progress being made on this front. Restoring the use of railways to America, while imploring methods used in Europe and Asia, would greatly cut down on emissions, work commutes, and an excess of automotive accidents. Amtrak and various rail alliances are attempting to restore the railway system, yet only recreating old tried methods which lead to the death of the railways in the 1980s. \n",
    "\n",
    "## Project Question\n",
    "*What specific question are you seeking to answer with this project?*\n",
    "*This is not the same as the questions you ask to limit the scope of the project.*\n",
    "\n",
    "Does Amtrak have the ability to revamp the American railway system? \n",
    "\n",
    "The business needs that warrant this question are not that of the railway company, but rather the needs of the people using them. The people need more efficient travel standards. Current methods are proving to be outdated and dangerous.\n",
    "\n",
    "## What would an answer look like?\n",
    "*What is your hypothesized answer to your question?*\n",
    "\n",
    "My hypothesis is that Amtrak doe snot contain the ridership and thus does no contain the budget to be able to expand its railway in shuch direct routes. Amtrak will need to go in one of two business routes: accept as much government funding as possible, or slowly expand in small areas to begin fixing the problems of larger routes. By expanding their current assets they will increase revenue to be able to begin the process of revilalization. \n",
    "\n",
    "## Data Sources\n",
    "*What 3 data sources have you identified for this project?*\n",
    "*How are you going to relate these datasets?*\n",
    "*How will you use this data to answer your project question?*\n",
    "\n",
    "\n",
    "\n",
    " To prepare for this project, it will be necessary to collect data from reliable resources. All of Amtrak's information is collected and published online for all to access. The data collected for this project won't only be information from Amtrak, but also data collected about automotive travel, metro transit, daily commutes, as well as demand for transit via polls from citizens. To process this data, it will be important to be able to filter through the information in order to be able to select data that truly explains and solves the argument for efficient public transit. It will also be important to compare databases in order to find contradictions to determine the fallibility of the data and find the margin of error. Once the correct data has been selected and proven to be trusted information, we can finally analyze the data collected to determine if public transit could truly make commute faster and safer, or if the cost would outway the possibly minute difference. To share this information once analyzed, there must be important attractive visuals and concise descriptions applied to the subject matter. There must be a well-worded recap of how the data was collected and refined, followed by our results. When the final project is published, the project can finally be published to the appropriate sites and organizations.\n",
    "\n",
    " The first dataset will analyze the current riderships of Amtrak throughout the country. We will see which regions of the country suffer from low ridership and try to analyze why. \n",
    "\n",
    " The second dataset will analyze the past of Amtrak to see where and when they began to lose ridership. \n",
    "\n",
    " The third dataset will analyze the correlation of ridership along with average trip durations of specific areas. "
   ]
  },
  {
   "cell_type": "code",
   "execution_count": null,
   "metadata": {},
   "outputs": [],
   "source": [
    "# Start your code here"
   ]
  }
 ],
 "metadata": {
  "kernelspec": {
   "display_name": "Python 3.10.7 64-bit",
   "language": "python",
   "name": "python3"
  },
  "language_info": {
   "name": "python",
   "version": "3.10.7"
  },
  "orig_nbformat": 4,
  "vscode": {
   "interpreter": {
    "hash": "af8cdbec20cabee94335913951c23f0843030a4cf1aa91f8cc372c55171c1b62"
   }
  }
 },
 "nbformat": 4,
 "nbformat_minor": 2
}
